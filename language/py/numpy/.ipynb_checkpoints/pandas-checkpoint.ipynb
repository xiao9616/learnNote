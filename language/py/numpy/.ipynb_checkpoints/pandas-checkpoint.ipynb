{
 "cells": [
  {
   "cell_type": "markdown",
   "metadata": {},
   "source": [
    "# Pandas笔记"
   ]
  },
  {
   "cell_type": "markdown",
   "metadata": {},
   "source": [
    "## 一.基本数据结构"
   ]
  },
  {
   "cell_type": "markdown",
   "metadata": {},
   "source": [
    "Pandas的两个主要数据结构： Series和DateFrame"
   ]
  },
  {
   "cell_type": "markdown",
   "metadata": {},
   "source": [
    "### 1.Series"
   ]
  },
  {
   "cell_type": "markdown",
   "metadata": {},
   "source": [
    "pandas.Series(data=None, index=None, dtype=None, name=None, copy=False,fastpath=False)\n",
    "\n",
    "\n",
    "data：它可以是一个字典、array-like、标量。表示Series包含的数据，如果是序列/数组，则它必须是一维的\n",
    "\n",
    "index：一个array-like或者一个Index对象。它指定了label。其值必须唯一而且hashable，且长度与data一致。如果data是一个字典，则index将会使用该字典的key（此时index不起作用）。如果未提供，则使用np.arange(n)。\n",
    "\n",
    "name：一个字符串，为Series的名字。\n",
    "\n",
    "dtype：指定数据类型。如果为None，则数据类型被自动推断\n",
    "\n",
    "copy：一个布尔值。如果为True，则拷贝输入数据data"
   ]
  },
  {
   "cell_type": "code",
   "execution_count": 14,
   "metadata": {},
   "outputs": [
    {
     "name": "stdout",
     "output_type": "stream",
     "text": [
      "0    1\n",
      "1    2\n",
      "2    3\n",
      "3    4\n",
      "dtype: int64\n",
      "a    1\n",
      "b    2\n",
      "c    3\n",
      "dtype: int64\n"
     ]
    }
   ],
   "source": [
    "import numpy as np\n",
    "import pandas as pd\n",
    "\n",
    "list_data=[1,2,3,4]\n",
    "dict_data={\"a\":1,\"b\":2,\"c\":3}\n",
    "print(pd.Series(list_data))\n",
    "print(pd.Series(dict_data))"
   ]
  },
  {
   "cell_type": "code",
   "execution_count": 15,
   "metadata": {},
   "outputs": [
    {
     "name": "stdout",
     "output_type": "stream",
     "text": [
      "a    1.0\n",
      "c    3.0\n",
      "f    NaN\n",
      "dtype: float64\n",
      "a    1\n",
      "c    1\n",
      "f    1\n",
      "dtype: int64\n"
     ]
    }
   ],
   "source": [
    "print(pd.Series(dict_data,index=['a','c','f']))\n",
    "print(pd.Series(1,index=['a','c','f']))"
   ]
  },
  {
   "cell_type": "markdown",
   "metadata": {},
   "source": [
    "可以将Series转换成其他数据类型：\n",
    "\n",
    ".to_dict()：转换成字典，格式为{label->value}\n",
    "\n",
    ".to_frame([name])：转换成DataFrame。name为Index的名字\n",
    "\n",
    ".to_list()：转换成列表"
   ]
  },
  {
   "cell_type": "code",
   "execution_count": 16,
   "metadata": {},
   "outputs": [
    {
     "name": "stdout",
     "output_type": "stream",
     "text": [
      "[1, 2, 3]\n",
      "   0\n",
      "a  1\n",
      "b  2\n",
      "c  3\n",
      "{'a': 1, 'b': 2, 'c': 3}\n"
     ]
    }
   ],
   "source": [
    "s=pd.Series(dict_data)\n",
    "print(s.to_list())\n",
    "print(s.to_frame())\n",
    "print(s.to_dict())"
   ]
  },
  {
   "cell_type": "markdown",
   "metadata": {},
   "source": [
    "  .to_string(buf=None, na_rep='NaN', float_format=None, header=True, index=True, \n",
    "  length=False, dtype=False, name=False, max_rows=None)"
   ]
  },
  {
   "cell_type": "code",
   "execution_count": 17,
   "metadata": {},
   "outputs": [
    {
     "name": "stdout",
     "output_type": "stream",
     "text": [
      "a    1\n",
      "b    2\n",
      "c    3\n"
     ]
    }
   ],
   "source": [
    "print(s.to_string())"
   ]
  },
  {
   "cell_type": "code",
   "execution_count": 19,
   "metadata": {},
   "outputs": [
    {
     "data": {
      "text/plain": [
       "'a    1\\nb    2\\nc    3'"
      ]
     },
     "execution_count": 19,
     "metadata": {},
     "output_type": "execute_result"
    }
   ],
   "source": [
    "s.to_string()"
   ]
  },
  {
   "cell_type": "markdown",
   "metadata": {},
   "source": [
    "### 2.index"
   ]
  },
  {
   "cell_type": "markdown",
   "metadata": {},
   "source": [
    "pandas.Index(data=None, dtype=None, copy=False, name=None, fastpath=False, tupleize_cols=True)：创建Index对象。\n",
    "\n",
    "data：一个array-like，必须是一维的\n",
    "\n",
    "name：一个字符串，为Index的名字。\n",
    "\n",
    "dtype：指定数据类型。如果为None，则默认为object\n",
    "\n",
    "copy：一个布尔值。如果为True，则拷贝输入数据data\n",
    "\n",
    "tupleize_cols：一个布尔值，如果可能则尽量创建MultiIndex对象"
   ]
  },
  {
   "cell_type": "code",
   "execution_count": 23,
   "metadata": {
    "scrolled": true
   },
   "outputs": [
    {
     "name": "stdout",
     "output_type": "stream",
     "text": [
      "Index(['a', 'b'], dtype='object')\n"
     ]
    }
   ],
   "source": [
    "i=pd.Index(['a','b'])\n",
    "print(i)"
   ]
  },
  {
   "cell_type": "markdown",
   "metadata": {},
   "source": [
    "### 3.DataFrame"
   ]
  },
  {
   "cell_type": "markdown",
   "metadata": {},
   "source": [
    "DataFrame 是一个表格型的数据结构，它含有一组有序的列，每一列都可以是不同的值类型（数值、日期、object类型）。其中object类型可以保存任何python对象，比如字符串。同一列必须是相同的值类型。\n",
    "\n",
    "DataFrame 既有行索引，又有列索引。他可以被看作为Series组成的字典（共用同一个行索引）\n",
    "DataFrame中面向行和面向列的操作基本上是平衡的。其实DataFrame中的数据是以一个或者多个二维块存放的"
   ]
  },
  {
   "cell_type": "markdown",
   "metadata": {},
   "source": [
    "pandas.DataFrame(data=None, index=None, columns=None, dtype=None, copy=False)\n",
    "\n",
    "data：可以是一个二维数组、字典、或者DataFrame。\n",
    "\n",
    "index：一个Index或者array-like对象（必须为一维的），它指定了行标签。如果未提供，则使用np.arange(n)。\n",
    "\n",
    "columns：一个Index或者array-like对象（必须为一维的），它指定了列标签。如果未提供，则使用np.arange(n)。\n",
    "\n",
    "dtype：指定数据类型。如果为None，则数据类型被自动推断\n",
    "\n",
    "copy：一个布尔值。如果为True，则拷贝输入数据data"
   ]
  },
  {
   "cell_type": "code",
   "execution_count": null,
   "metadata": {},
   "outputs": [],
   "source": []
  }
 ],
 "metadata": {
  "kernelspec": {
   "display_name": "Python 3",
   "language": "python",
   "name": "python3"
  },
  "language_info": {
   "codemirror_mode": {
    "name": "ipython",
    "version": 3
   },
   "file_extension": ".py",
   "mimetype": "text/x-python",
   "name": "python",
   "nbconvert_exporter": "python",
   "pygments_lexer": "ipython3",
   "version": "3.7.3"
  }
 },
 "nbformat": 4,
 "nbformat_minor": 2
}
